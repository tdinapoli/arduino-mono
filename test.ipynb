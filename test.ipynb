{
 "cells": [
  {
   "cell_type": "code",
   "execution_count": 85,
   "id": "008e17cf",
   "metadata": {},
   "outputs": [
    {
     "name": "stdout",
     "output_type": "stream",
     "text": [
      "The autoreload extension is already loaded. To reload it, use:\n",
      "  %reload_ext autoreload\n"
     ]
    }
   ],
   "source": [
    "%load_ext autoreload\n",
    "%autoreload 2"
   ]
  },
  {
   "cell_type": "code",
   "execution_count": 86,
   "id": "04a3905f",
   "metadata": {},
   "outputs": [],
   "source": [
    "import instruments as inst"
   ]
  },
  {
   "cell_type": "code",
   "execution_count": 87,
   "id": "f09838fb",
   "metadata": {},
   "outputs": [],
   "source": [
    "ser = inst.ArduinoSerialManager(port='/dev/ttyACM2')"
   ]
  },
  {
   "cell_type": "code",
   "execution_count": 88,
   "id": "d70f5e25",
   "metadata": {},
   "outputs": [],
   "source": [
    "#led_pin = inst.ArduinoTTL(ser, 13, False)"
   ]
  },
  {
   "cell_type": "code",
   "execution_count": 89,
   "id": "6dde1046",
   "metadata": {},
   "outputs": [],
   "source": [
    "#led_pin.set_state(True)"
   ]
  },
  {
   "cell_type": "code",
   "execution_count": 90,
   "id": "edfaf3c1",
   "metadata": {},
   "outputs": [],
   "source": [
    "step_pin = inst.ArduinoTTL(ser, 8, False)\n",
    "dir_pin = inst.ArduinoTTL(ser, 9, False)\n",
    "ttls = {\"pin_step\": step_pin, \"direction\": dir_pin}\n",
    "driver = inst.DRV8825(ttls)\n",
    "motor = inst.M061CS02(driver, steps=200, angle=0)\n",
    "mono = inst.Monochromator(motor)"
   ]
  },
  {
   "cell_type": "code",
   "execution_count": 112,
   "id": "156c93eb",
   "metadata": {},
   "outputs": [],
   "source": [
    "mono._min_wl = 200\n",
    "mono._max_wl = 1000\n",
    "mono._greater_wl_cw = False\n",
    "mono._wl_step_ratio = 0.0625"
   ]
  },
  {
   "cell_type": "code",
   "execution_count": 111,
   "id": "82e90f42",
   "metadata": {},
   "outputs": [
    {
     "name": "stdout",
     "output_type": "stream",
     "text": [
      "8 1000 5 5\n"
     ]
    }
   ],
   "source": [
    "# 838 inicial\n",
    "# 213 final\n",
    "mono._motor.rotate_step(1000, False)"
   ]
  },
  {
   "cell_type": "code",
   "execution_count": 113,
   "id": "c177eba4",
   "metadata": {},
   "outputs": [],
   "source": [
    "mono.set_wavelength(275.5)"
   ]
  },
  {
   "cell_type": "code",
   "execution_count": 114,
   "id": "3a9c03c4",
   "metadata": {},
   "outputs": [
    {
     "name": "stdout",
     "output_type": "stream",
     "text": [
      "8 3592 5 5\n"
     ]
    },
    {
     "data": {
      "text/plain": [
       "500"
      ]
     },
     "execution_count": 114,
     "metadata": {},
     "output_type": "execute_result"
    }
   ],
   "source": [
    "mono.goto_wavelength(500)"
   ]
  },
  {
   "cell_type": "code",
   "execution_count": null,
   "id": "d26add60",
   "metadata": {},
   "outputs": [],
   "source": []
  }
 ],
 "metadata": {
  "kernelspec": {
   "display_name": "default",
   "language": "python",
   "name": "python3"
  },
  "language_info": {
   "codemirror_mode": {
    "name": "ipython",
    "version": 3
   },
   "file_extension": ".py",
   "mimetype": "text/x-python",
   "name": "python",
   "nbconvert_exporter": "python",
   "pygments_lexer": "ipython3",
   "version": "3.13.3"
  }
 },
 "nbformat": 4,
 "nbformat_minor": 5
}
